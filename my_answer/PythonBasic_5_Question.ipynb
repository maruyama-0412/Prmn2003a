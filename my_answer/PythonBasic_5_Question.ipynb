{
  "nbformat": 4,
  "nbformat_minor": 0,
  "metadata": {
    "colab": {
      "provenance": [],
      "include_colab_link": true
    },
    "kernelspec": {
      "name": "python3",
      "display_name": "Python 3"
    },
    "language_info": {
      "name": "python"
    }
  },
  "cells": [
    {
      "cell_type": "markdown",
      "metadata": {
        "id": "view-in-github",
        "colab_type": "text"
      },
      "source": [
        "<a href=\"https://colab.research.google.com/github/maruyama-0412/prmn2003a/blob/main/my_answer/PythonBasic_5_Question.ipynb\" target=\"_parent\"><img src=\"https://colab.research.google.com/assets/colab-badge.svg\" alt=\"Open In Colab\"/></a>"
      ]
    },
    {
      "cell_type": "markdown",
      "source": [
        "<a href=\"https://colab.research.google.com/github/kiryu-3/Prmn2023/blob/main/Python/Python_Basic/question/PythonBasic_5_Question.ipynb\" target=\"_parent\"><img src=\"https://colab.research.google.com/assets/colab-badge.svg\" alt=\"Open In Colab\"/></a>"
      ],
      "metadata": {
        "id": "TA5kKi-LY1xg"
      }
    },
    {
      "cell_type": "markdown",
      "source": [
        "# 第5章 課題"
      ],
      "metadata": {
        "id": "r-kcfL2yEU8b"
      }
    },
    {
      "cell_type": "markdown",
      "source": [
        "## 課題1"
      ],
      "metadata": {
        "id": "RWo2DmBs_2c4"
      }
    },
    {
      "cell_type": "markdown",
      "source": [
        "1桁の自然数を乱数を使って5つ格納した2つのリストを作ってください。  \n",
        "この時、一つのリスト内で5つの値が重複しないようにしてください\n",
        "\n",
        "その後、そのリストから重複する要素を削除した新しいリストと、   \n",
        "共通の要素を持つ新しいリストを出力してください"
      ],
      "metadata": {
        "id": "QRNvqmTgE8Ww"
      }
    },
    {
      "cell_type": "markdown",
      "source": [
        "＜実行結果例＞\n",
        "``` py  \n",
        "1つ目のリスト：[1, 2, 3, 4, 5]  \n",
        "2つ目のリスト：[1, 3, 5, 7, 9]  \n",
        "重複削除リスト：[1, 2, 3, 4, 5, 7, 9] \n",
        "共通要素リスト：[1, 3, 5]\n",
        "```"
      ],
      "metadata": {
        "id": "Goi4CqGxFOpn"
      }
    },
    {
      "cell_type": "markdown",
      "source": [
        "＜ヒント＞ set関数を用いても用いなくても答えは出せます。"
      ],
      "metadata": {
        "id": "iEOFeFjqkkyS"
      }
    },
    {
      "cell_type": "code",
      "source": [
        "# 入力用\n",
        "import random \n",
        "\n",
        "list_1 = random.sample(range(1,10),5)\n",
        "list_2 = random.sample(range(1,10),5)\n",
        "print(f'1つ目のリスト : {list_1 }')\n",
        "print(f'2つ目のリスト : {list_2 }')\n",
        "\n",
        "list_3 = list(set(list_1 + list_2))\n",
        "print(f'重複削除リスト : {list_3}')\n",
        "\n",
        "list_4 = list(set(list_1) & set(list_2))\n",
        "print(f'共通要素リスト : {list_4}')"
      ],
      "metadata": {
        "id": "pQdhCOALMGWj",
        "colab": {
          "base_uri": "https://localhost:8080/"
        },
        "outputId": "92692972-52e6-455c-f7c6-15edf4cefaf2"
      },
      "execution_count": 24,
      "outputs": [
        {
          "output_type": "stream",
          "name": "stdout",
          "text": [
            "1つ目のリスト : [8, 3, 4, 2, 5]\n",
            "2つ目のリスト : [9, 8, 7, 4, 1]\n",
            "重複削除リスト : [1, 2, 3, 4, 5, 7, 8, 9]\n",
            "共通要素リスト : [8, 4]\n"
          ]
        }
      ]
    },
    {
      "cell_type": "markdown",
      "source": [
        "## 課題2"
      ],
      "metadata": {
        "id": "-qZw_n3X8xrW"
      }
    },
    {
      "cell_type": "markdown",
      "source": [
        "共通のキーを持つ辞書を要素とするリストから、特定のキーの値のリストを取得してみます。"
      ],
      "metadata": {
        "id": "vxwATeobQf_U"
      }
    },
    {
      "cell_type": "markdown",
      "source": [
        "以下のリストから、都道府県コード・都道府県・県庁所在地それぞれのリストを作成してください\n",
        "\n",
        "キーが存在しないところがある点に注意してください"
      ],
      "metadata": {
        "id": "tGPa1uU6Qs2c"
      }
    },
    {
      "cell_type": "code",
      "source": [
        "todohuken_data = [{\"コード\": 24, \"都道府県\": \"三重\", \"県庁所在地\": \"津\"},\n",
        "                  {\"コード\": 25, \"都道府県\": \"滋賀\", \"県庁所在地\": \"大津\"},\n",
        "                  {\"コード\": 31, \"都道府県\": \"鳥取\"},\n",
        "                  {\"コード\": 32, \"都道府県\": \"島根\", \"県庁所在地\": \"松江\"},\n",
        "                  {\"コード\": 37, \"都道府県\": \"香川\", \"県庁所在地\": \"高松\"},\n",
        "                  {\"コード\": 38, \"都道府県\": \"愛媛\", \"県庁所在地\": \"松山\"},]"
      ],
      "metadata": {
        "id": "8ZdyRWbERGAY"
      },
      "execution_count": null,
      "outputs": []
    },
    {
      "cell_type": "markdown",
      "source": [
        "＜出力結果例＞  \n",
        "``` py\n",
        "[24, 25, 31, 32, 37, 38]  \n",
        "['三重', '滋賀', '鳥取', '島根', '香川', '愛媛']\n",
        "['津', '大津', None, '松江', '高松', '松山']\n",
        "```"
      ],
      "metadata": {
        "id": "dQ2n3OMSUXh2"
      }
    },
    {
      "cell_type": "code",
      "source": [
        "# 入力用\n",
        "todohuken_data = [{\"コード\": 24, \"都道府県\": \"三重\", \"県庁所在地\": \"津\"},\n",
        "                  {\"コード\": 25, \"都道府県\": \"滋賀\", \"県庁所在地\": \"大津\"},\n",
        "                  {\"コード\": 31, \"都道府県\": \"鳥取\"},\n",
        "                  {\"コード\": 32, \"都道府県\": \"島根\", \"県庁所在地\": \"松江\"},\n",
        "                  {\"コード\": 37, \"都道府県\": \"香川\", \"県庁所在地\": \"高松\"},]\n",
        "\n",
        "list_code = []\n",
        "list_todohuken = []\n",
        "list_kentyosyozaichi = []\n",
        "\n",
        "for data in todohuken_data:\n",
        "  list_code.append(data.get(\"コード\"))\n",
        "  list_todohuken.append(data.get(\"都道府県\"))\n",
        "  list_kentyosyozaichi.append(data.get(\"県庁所在地\"))\n",
        "\n",
        "print(list_code)\n",
        "print(list_todohuken)\n",
        "print(list_kentyosyozaichi)"
      ],
      "metadata": {
        "id": "duwCERgQUify",
        "colab": {
          "base_uri": "https://localhost:8080/"
        },
        "outputId": "6493ab54-a416-425d-d6dc-302848e23859"
      },
      "execution_count": 20,
      "outputs": [
        {
          "output_type": "stream",
          "name": "stdout",
          "text": [
            "[24, 25, 31, 32, 37]\n",
            "['三重', '滋賀', '鳥取', '島根', '香川']\n",
            "['津', '大津', None, '松江', '高松']\n"
          ]
        }
      ]
    },
    {
      "cell_type": "markdown",
      "source": [
        "## 課題3"
      ],
      "metadata": {
        "id": "1S8kadYgq_gV"
      }
    },
    {
      "cell_type": "markdown",
      "source": [
        "ある文字列が与えられた場合、文字列内の各文字の出現回数をディクショナリの形で返してください\n",
        "\n",
        "大文字と小文字は区別してください  \n",
        "また、出力時はアルファベット順にソートした状態にしてください"
      ],
      "metadata": {
        "id": "OdSKG7k9rA7V"
      }
    },
    {
      "cell_type": "markdown",
      "source": [
        "＜実行結果例＞　「Hello, World!」の各文字のカウント\n",
        "``` py\n",
        "{'H': 1, 'W': 1, 'd': 1, 'e': 1, 'l': 3, 'o': 2, 'r': 1}\n",
        "```"
      ],
      "metadata": {
        "id": "p0suMufQuEzI"
      }
    },
    {
      "cell_type": "code",
      "source": [
        "string = \"Hello,World!\"\n",
        "\n",
        "# アルファベット以外の文字を削除\n",
        "string = ''.join(c for c in string if c.isalpha())\n",
        "\n",
        "#文字列を1文字ずつアルファベット順にリストに格納\n",
        "char_list = sorted([char for char in string])\n",
        "\n",
        "#リストの重複を消す\n",
        "sort_char_list = sorted(set(char_list))\n",
        "\n",
        "#各文字の出現回数をディクショナリの形で出力\n",
        "count_dict = dict()\n",
        "for i in char_list:\n",
        "    count_dict[i] = char_list.count(i)\n",
        "print(count_dict)"
      ],
      "metadata": {
        "id": "bHv50oDhrdzN",
        "colab": {
          "base_uri": "https://localhost:8080/"
        },
        "outputId": "2c453dc3-91fb-4dac-b96f-7caed3c7a31b"
      },
      "execution_count": 64,
      "outputs": [
        {
          "output_type": "stream",
          "name": "stdout",
          "text": [
            "{'H': 1, 'W': 1, 'd': 1, 'e': 1, 'l': 3, 'o': 2, 'r': 1}\n"
          ]
        }
      ]
    },
    {
      "cell_type": "markdown",
      "source": [
        "## 課題4"
      ],
      "metadata": {
        "id": "W573lh39MOlj"
      }
    },
    {
      "cell_type": "markdown",
      "source": [
        "ある大学の名前と年齢が、次のような形式で格納されたディクショナリ `university_dic` があります。"
      ],
      "metadata": {
        "id": "sSIMKY-aNcIx"
      }
    },
    {
      "cell_type": "code",
      "source": [
        "university_dic = {\n",
        "    \"Chitose\" : 25,\n",
        "    \"Hokudai\" : 105,\n",
        "    \"Muroran\" : 74,\n",
        "    \"Hakodate\": 23,\n",
        "}"
      ],
      "metadata": {
        "id": "v-wGyWuKK3wl"
      },
      "execution_count": null,
      "outputs": []
    },
    {
      "cell_type": "markdown",
      "source": [
        "このリストを、年齢順にソートして、新たなディクショナリとして出力してください"
      ],
      "metadata": {
        "id": "XIxDf9QgO1iH"
      }
    },
    {
      "cell_type": "markdown",
      "source": [
        "＜実行結果＞  \n",
        "``` py\n",
        "{'Hakodate': 23, 'Chitose': 25, 'Muroran': 74, 'Hokudai': 105}\n",
        "```"
      ],
      "metadata": {
        "id": "0Z2-_1dAQENU"
      }
    },
    {
      "cell_type": "code",
      "source": [
        "university_dic = {\n",
        "    \"Chitose\" : 25,\n",
        "    \"Hokudai\" : 105,\n",
        "    \"Muroran\" : 74,\n",
        "    \"Hakodate\": 23,\n",
        "}\n",
        "print(f'変更前のリスト : {university_dic}')\n",
        "\n",
        "#ディクショナリから「値」を取り出し、リストに格納\n",
        "value_list = []\n",
        "for value in university_dic.values():\n",
        "  value_list.append(value)\n",
        "\n",
        "#ディクショナリから「キー」を取り出し、リストに格納\n",
        "key_list = []\n",
        "for key in university_dic.keys():\n",
        "  key_list.append(key)\n",
        "\n",
        "#「キー」と「値」を入れ替えたディクショナリを作成\n",
        "university_dic = dict(zip(value_list,key_list))\n",
        "\n",
        "#年齢を昇順に並び替えたリストを作成\n",
        "age_list = sorted(university_dic.keys())\n",
        "\n",
        "#昇順に並び替えた年齢に対する大学名のリストを作成\n",
        "university_list = []\n",
        "for age in age_list:\n",
        "  university_list.append(university_dic[age])\n",
        "\n",
        "#並び替えた大学名と年齢をディクショナリ化\n",
        "\n",
        "\n",
        "university_dic = dict(zip(university_list,age_list))\n",
        "print(f'変更後のリスト : {university_dic}')"
      ],
      "metadata": {
        "id": "ficNVfkgR5Kv",
        "colab": {
          "base_uri": "https://localhost:8080/"
        },
        "outputId": "cbe820f1-dadf-4f1a-b90f-310528a232bd"
      },
      "execution_count": 32,
      "outputs": [
        {
          "output_type": "stream",
          "name": "stdout",
          "text": [
            "変更前のリスト : {'Chitose': 25, 'Hokudai': 105, 'Muroran': 74, 'Hakodate': 23}\n",
            "変更後のリスト : {'Hakodate': 23, 'Chitose': 25, 'Muroran': 74, 'Hokudai': 105}\n"
          ]
        }
      ]
    },
    {
      "cell_type": "markdown",
      "source": [
        "## 課題5"
      ],
      "metadata": {
        "id": "QijnXk7UWAVC"
      }
    },
    {
      "cell_type": "markdown",
      "source": [
        "**FizzBuzz（フィズ・バズ）問題**という問題について解いていきます。\n",
        "\n",
        "もともとは、英語圏で長距離ドライブ中や飲み会の時に行われる言葉遊びです。"
      ],
      "metadata": {
        "id": "m7F47Q1mWCA6"
      }
    },
    {
      "cell_type": "markdown",
      "source": [
        "以下のような問題になります。\n",
        "\n",
        "1～Nまでの整数を順に出力しなさい。ただし、例外として以下のルールを守ること。\n",
        "\n",
        "* 3で割り切れる数字の場合はFizzを出力\n",
        "* 5で割り切れる数字の場合はBuzzを出力\n",
        "* 7で割り切れる数字の場合はJazzを出力\n",
        "* 複数条件が当てはまる場合は組み合わせて出力（ \"FizzBuzz\", \"FizzJazz\", \"BuzzJazz\" など）"
      ],
      "metadata": {
        "id": "fArw0VcNWgwZ"
      }
    },
    {
      "cell_type": "markdown",
      "source": [
        "ここでは N=100として、まずは一つのリストに  \n",
        "\"Fizz\" か \"Buzz\" か \"Jazz\" か \"組み合わさったもの\" か \"others\" を格納してください。\n",
        "\n",
        "その後、それぞれの要素の数をカウントし、ディクショナリの形で出力してください。"
      ],
      "metadata": {
        "id": "SYqkpYstWm7Z"
      }
    },
    {
      "cell_type": "markdown",
      "source": [
        "＜実行結果例＞  \n",
        "``` py\n",
        "{'Fizz': 23, 'Buzz': 12, 'Jazz': 8, 'FizzBuzz': 6, 'FizzJazz': 4, 'BuzzJazz': 2, 'others': 45}\n",
        "```"
      ],
      "metadata": {
        "id": "OqLuJTcWYzFt"
      }
    },
    {
      "cell_type": "code",
      "source": [
        "#Fizz'等の文字列のリストを作成\n",
        "n = 100\n",
        "result_list = []\n",
        "for i in range(1, n+1):\n",
        "    if i % 35 == 0:\n",
        "        result_list.append(\"BuzzJazz\")\n",
        "    elif i % 21 == 0:\n",
        "        result_list.append(\"FizzJazz\")\n",
        "    elif i % 15 == 0:\n",
        "        result_list.append(\"FizzBuzz\")\n",
        "    elif i % 3 == 0:\n",
        "        result_list.append(\"Fizz\")\n",
        "    elif i % 5 == 0:\n",
        "        result_list.append(\"Buzz\")\n",
        "    elif i % 7 == 0:\n",
        "        result_list.append(\"Jazz\")\n",
        "    else:\n",
        "        result_list.append(\"others\")\n",
        "\n",
        "#要素の数をカウントした結果をディクショナリで出力\n",
        "result_dict = dict()\n",
        "result_dict['Fizz'] = int(result_list.count('Fizz'))\n",
        "result_dict['Buzz'] = int(result_list.count('Buzz'))\n",
        "result_dict['Jazz'] = int(result_list.count('Jazz'))\n",
        "result_dict['FizzBuzz'] = int(result_list.count('FizzBuzz'))\n",
        "result_dict['FizzJazz'] = int(result_list.count('FizzJazz'))\n",
        "result_dict['BuzzJazz'] = int(result_list.count('BuzzJazz'))\n",
        "result_dict['others'] = int(result_list.count('others'))\n",
        "print(result_dict)"
      ],
      "metadata": {
        "id": "BLYbI0E48o2G",
        "colab": {
          "base_uri": "https://localhost:8080/"
        },
        "outputId": "158f1d7f-c40f-4882-f519-5d0f07679f9d"
      },
      "execution_count": 40,
      "outputs": [
        {
          "output_type": "stream",
          "name": "stdout",
          "text": [
            "{'Fizz': 23, 'Buzz': 12, 'Jazz': 8, 'FizzBuzz': 6, 'FizzJazz': 4, 'BuzzJazz': 2, 'others': 45}\n"
          ]
        }
      ]
    }
  ]
}