{
  "nbformat": 4,
  "nbformat_minor": 0,
  "metadata": {
    "colab": {
      "provenance": [],
      "include_colab_link": true
    },
    "kernelspec": {
      "name": "python3",
      "display_name": "Python 3"
    },
    "language_info": {
      "name": "python"
    }
  },
  "cells": [
    {
      "cell_type": "markdown",
      "metadata": {
        "id": "view-in-github",
        "colab_type": "text"
      },
      "source": [
        "<a href=\"https://colab.research.google.com/github/maruyama-0412/prmn2003a/blob/main/my_answer/PythonBasic_2_Question.ipynb\" target=\"_parent\"><img src=\"https://colab.research.google.com/assets/colab-badge.svg\" alt=\"Open In Colab\"/></a>"
      ]
    },
    {
      "cell_type": "markdown",
      "source": [
        "# 第2章 課題"
      ],
      "metadata": {
        "id": "C44SsXDACtHu"
      }
    },
    {
      "cell_type": "markdown",
      "source": [
        "## 課題1"
      ],
      "metadata": {
        "id": "OnkezWHRCwr9"
      }
    },
    {
      "cell_type": "markdown",
      "source": [
        "for文を使って、以下のように出力してください"
      ],
      "metadata": {
        "id": "q32rK-cECzCl"
      }
    },
    {
      "cell_type": "markdown",
      "source": [
        "![oSFeQoX.png](https://i.imgur.com/oSFeQoX.png)"
      ],
      "metadata": {
        "id": "FxMcxznVB6cI"
      }
    },
    {
      "cell_type": "code",
      "source": [
        "for i in range(5):\n",
        "  for j in range(4 - i):\n",
        "    print(' ',end = '')\n",
        "  for k in range(i * 2 - 1):\n",
        "    print('*',end = '')\n",
        "  print('\\n')"
      ],
      "metadata": {
        "id": "iBFSsrdRC5Zt",
        "colab": {
          "base_uri": "https://localhost:8080/"
        },
        "outputId": "d68b7998-3d46-40a0-b2d4-14b4e4ef5c90"
      },
      "execution_count": null,
      "outputs": [
        {
          "output_type": "stream",
          "name": "stdout",
          "text": [
            "    \n",
            "\n",
            "   *\n",
            "\n",
            "  ***\n",
            "\n",
            " *****\n",
            "\n",
            "*******\n",
            "\n"
          ]
        }
      ]
    },
    {
      "cell_type": "markdown",
      "source": [
        "## 課題2"
      ],
      "metadata": {
        "id": "gIn-UqGTCagu"
      }
    },
    {
      "cell_type": "markdown",
      "source": [
        "課題1の場合を`n=4`として、nを自分で設定して出力できるようにしてください"
      ],
      "metadata": {
        "id": "ltdiEdqYDFy8"
      }
    },
    {
      "cell_type": "markdown",
      "source": [
        "＜例＞ n=5の場合  \n",
        "![o5NjugQ.png](https://imgur.com/o5NjugQ.png)"
      ],
      "metadata": {
        "id": "hw0FM8BRDHz1"
      }
    },
    {
      "cell_type": "code",
      "source": [
        "n = int(input())\n",
        "\n",
        "for i in range(n + 1):\n",
        "  for j in range(n - i):\n",
        "    print(' ',end = '')\n",
        "  for k in range(i * 2 - 1):\n",
        "    print('*',end = '')\n",
        "  print('\\n')"
      ],
      "metadata": {
        "id": "upd76Tv-FrIB",
        "colab": {
          "base_uri": "https://localhost:8080/"
        },
        "outputId": "5ead82b1-fc57-419f-a269-e7aada9fc554"
      },
      "execution_count": null,
      "outputs": [
        {
          "output_type": "stream",
          "name": "stdout",
          "text": [
            "5\n",
            "     \n",
            "\n",
            "    *\n",
            "\n",
            "   ***\n",
            "\n",
            "  *****\n",
            "\n",
            " *******\n",
            "\n",
            "*********\n",
            "\n"
          ]
        }
      ]
    },
    {
      "cell_type": "markdown",
      "source": [
        "## 課題3"
      ],
      "metadata": {
        "id": "tLMJvwBDE7wT"
      }
    },
    {
      "cell_type": "markdown",
      "source": [
        "for文を使って、以下のように出力してください"
      ],
      "metadata": {
        "id": "vZNvWsG7E99q"
      }
    },
    {
      "cell_type": "markdown",
      "source": [
        "![oSirXec.png](https://imgur.com/oSirXec.png)"
      ],
      "metadata": {
        "id": "ijOV-ilXGDNR"
      }
    },
    {
      "cell_type": "code",
      "source": [
        "def abs(j):\n",
        "  if j < 0:\n",
        "    w = - j \n",
        "  else :\n",
        "    w = j\n",
        "  return w\n",
        "\n",
        "def output(char,n_time):\n",
        "  for T in range(n_time):\n",
        "    print(char,end = '')\n",
        "  \n",
        "for i in range(1,8):\n",
        "  white = abs(4 - i)\n",
        "  output(' ',white)\n",
        "  output('*',7 - 2 * white)\n",
        "  print('\\n')\n"
      ],
      "metadata": {
        "id": "Q5Ob9uZpGIE3",
        "colab": {
          "base_uri": "https://localhost:8080/"
        },
        "outputId": "9d0367b6-6ba8-46c1-e0ff-186985913cb7"
      },
      "execution_count": null,
      "outputs": [
        {
          "output_type": "stream",
          "name": "stdout",
          "text": [
            "   *\n",
            "\n",
            "  ***\n",
            "\n",
            " *****\n",
            "\n",
            "*******\n",
            "\n",
            " *****\n",
            "\n",
            "  ***\n",
            "\n",
            "   *\n",
            "\n"
          ]
        }
      ]
    },
    {
      "cell_type": "markdown",
      "source": [
        "## 課題4"
      ],
      "metadata": {
        "id": "Oh7whOPkGQ3I"
      }
    },
    {
      "cell_type": "markdown",
      "source": [
        "課題3の場合を`n=4`として、nを自分で設定して出力できるようにしてください"
      ],
      "metadata": {
        "id": "PnvT8MQbGS03"
      }
    },
    {
      "cell_type": "markdown",
      "source": [
        "＜例＞ n=5の場合  \n",
        "\n",
        "![my4J17V.png](https://i.imgur.com/my4J17V.png)"
      ],
      "metadata": {
        "id": "ZujkAbVMGzhn"
      }
    },
    {
      "cell_type": "code",
      "source": [
        "def abs(j):\n",
        "  if j < 0:\n",
        "    w = - j \n",
        "  else :\n",
        "    w = j\n",
        "  return w\n",
        "\n",
        "def output(char,n_time):\n",
        "  for T in range(n_time):\n",
        "    print(char,end = '')\n",
        "\n",
        "n = int(input())\n",
        "for i in range(1,2 * n):\n",
        "  white = abs(n - i)\n",
        "  output(' ',white)\n",
        "  output('*', (2 * n - 1)- 2 * white)\n",
        "  print('\\n')"
      ],
      "metadata": {
        "id": "hCFNQ7mWG99u",
        "colab": {
          "base_uri": "https://localhost:8080/"
        },
        "outputId": "fd61f19a-0a8c-4610-f637-65ca9d948571"
      },
      "execution_count": null,
      "outputs": [
        {
          "output_type": "stream",
          "name": "stdout",
          "text": [
            "5\n",
            "    *\n",
            "\n",
            "   ***\n",
            "\n",
            "  *****\n",
            "\n",
            " *******\n",
            "\n",
            "*********\n",
            "\n",
            " *******\n",
            "\n",
            "  *****\n",
            "\n",
            "   ***\n",
            "\n",
            "    *\n",
            "\n"
          ]
        }
      ]
    },
    {
      "cell_type": "markdown",
      "source": [
        "## 課題5"
      ],
      "metadata": {
        "id": "R2MvOK4wHJlK"
      }
    },
    {
      "cell_type": "markdown",
      "source": [
        "for文を使って、以下のように出力してください"
      ],
      "metadata": {
        "id": "ddMIUoaKHcwd"
      }
    },
    {
      "cell_type": "markdown",
      "source": [
        "![vDUi5eM.png](https://imgur.com/vDUi5eM.png)"
      ],
      "metadata": {
        "id": "CD1cVUlWHLVO"
      }
    },
    {
      "cell_type": "code",
      "source": [
        "def abs(j):\n",
        "  if j < 0:\n",
        "    w = - j \n",
        "  else :\n",
        "    w = j\n",
        "  return w\n",
        "\n",
        "def output(char,n_time):\n",
        "  for T in range(n_time):\n",
        "    print(char,end = '')\n",
        "  \n",
        "for i in range(1,8):\n",
        "  white = abs(4 - i)\n",
        "  output(' ',white)\n",
        "  output('*',7 - 2 * white)\n",
        "  output(' ',white - 1)\n",
        "  output(' ',white)\n",
        "  if i == 4 :\n",
        "    output('*',(7 - 2 * white) - 1)\n",
        "  else:\n",
        "    output('*',7 - 2 * white)\n",
        "  print('\\n')"
      ],
      "metadata": {
        "id": "1pDkfJpUHd93",
        "colab": {
          "base_uri": "https://localhost:8080/"
        },
        "outputId": "a977e895-0d8a-4a9e-b455-6ff6c961855a"
      },
      "execution_count": null,
      "outputs": [
        {
          "output_type": "stream",
          "name": "stdout",
          "text": [
            "   *     *\n",
            "\n",
            "  ***   ***\n",
            "\n",
            " ***** *****\n",
            "\n",
            "*************\n",
            "\n",
            " ***** *****\n",
            "\n",
            "  ***   ***\n",
            "\n",
            "   *     *\n",
            "\n"
          ]
        }
      ]
    },
    {
      "cell_type": "markdown",
      "source": [
        "## 課題6"
      ],
      "metadata": {
        "id": "oubbafOBHerl"
      }
    },
    {
      "cell_type": "markdown",
      "source": [
        "課題5の場合を`n=4`として、nを自分で設定して出力できるようにしてください"
      ],
      "metadata": {
        "id": "7SzgFdC-HzG9"
      }
    },
    {
      "cell_type": "markdown",
      "source": [
        "＜例＞ n=5の場合  \n",
        "\n",
        "![udkVlYG.png](https://imgur.com/udkVlYG.png)"
      ],
      "metadata": {
        "id": "LY8g9PVPH2OW"
      }
    },
    {
      "cell_type": "code",
      "source": [
        "def abs(j):\n",
        "  if j < 0:\n",
        "    w = - j \n",
        "  else :\n",
        "    w = j\n",
        "  return w\n",
        "\n",
        "def output(char,n_time):\n",
        "  for T in range(n_time):\n",
        "    print(char,end = '')\n",
        "\n",
        "n = int(input())\n",
        "for i in range(1,2 * n):\n",
        "  white = abs(n - i)\n",
        "  output(' ',white)\n",
        "  output('*', (2 * n - 1)- 2 * white)\n",
        "  output(' ',white - 1)\n",
        "  output(' ',white)\n",
        "  if i == n:\n",
        "    output('*', (2 * n - 1)- 2 * white - 1)  \n",
        "  else:\n",
        "    output('*', (2 * n - 1)- 2 * white)  \n",
        "  print('\\n')"
      ],
      "metadata": {
        "id": "XZOK5ulbH-tu",
        "colab": {
          "base_uri": "https://localhost:8080/"
        },
        "outputId": "ea8cc305-ea9d-421a-9454-6529c0ecffbd"
      },
      "execution_count": null,
      "outputs": [
        {
          "output_type": "stream",
          "name": "stdout",
          "text": [
            "5\n",
            "    *       *\n",
            "\n",
            "   ***     ***\n",
            "\n",
            "  *****   *****\n",
            "\n",
            " ******* *******\n",
            "\n",
            "*****************\n",
            "\n",
            " ******* *******\n",
            "\n",
            "  *****   *****\n",
            "\n",
            "   ***     ***\n",
            "\n",
            "    *       *\n",
            "\n"
          ]
        }
      ]
    },
    {
      "cell_type": "markdown",
      "source": [
        "## 課題7"
      ],
      "metadata": {
        "id": "ouqTUmPQIKGF"
      }
    },
    {
      "cell_type": "markdown",
      "source": [
        "for文を使って、以下のように出力してください"
      ],
      "metadata": {
        "id": "WHSxdOHuIMRM"
      }
    },
    {
      "cell_type": "markdown",
      "source": [
        "![IuP0M16.png](https://imgur.com/IuP0M16.png)"
      ],
      "metadata": {
        "id": "-G--WFTkIM8s"
      }
    },
    {
      "cell_type": "code",
      "source": [
        "# 入力用\n",
        "def abs(j):\n",
        "  if j < 0:\n",
        "    w = - j \n",
        "  else :\n",
        "    w = j\n",
        "  return w\n",
        "\n",
        "def output(char,n_time):\n",
        "  for T in range(n_time):\n",
        "    print(char,end = '')\n",
        "  \n",
        "for i in range(1,8):\n",
        "  white = abs(4 - i)\n",
        "  output(' ',white)\n",
        "  output('*',7 - 2 * white)\n",
        "  output(' ',white - 1)\n",
        "  output(' ',white)\n",
        "  if i == 4:\n",
        "    output('*',7 - 2 * white - 1)\n",
        "  else:\n",
        "    output('*',7 - 2 * white)\n",
        "  print('\\n')\n",
        "\n",
        "for i in range(2,8):\n",
        "  white = abs(4 - i)\n",
        "  output(' ',white)\n",
        "  output('*',7 - 2 * white)\n",
        "  output(' ',white - 1)\n",
        "  output(' ',white)\n",
        "  if i == 4:\n",
        "    output('*',7 - 2 * white - 1)\n",
        "  else:\n",
        "    output('*',7 - 2 * white)\n",
        "  print('\\n')"
      ],
      "metadata": {
        "id": "BVXjDteuIijL",
        "colab": {
          "base_uri": "https://localhost:8080/"
        },
        "outputId": "492c84d5-8452-4aab-91ea-f12436f9dcb8"
      },
      "execution_count": null,
      "outputs": [
        {
          "output_type": "stream",
          "name": "stdout",
          "text": [
            "   *     *\n",
            "\n",
            "  ***   ***\n",
            "\n",
            " ***** *****\n",
            "\n",
            "*************\n",
            "\n",
            " ***** *****\n",
            "\n",
            "  ***   ***\n",
            "\n",
            "   *     *\n",
            "\n",
            "  ***   ***\n",
            "\n",
            " ***** *****\n",
            "\n",
            "*************\n",
            "\n",
            " ***** *****\n",
            "\n",
            "  ***   ***\n",
            "\n",
            "   *     *\n",
            "\n"
          ]
        }
      ]
    },
    {
      "cell_type": "markdown",
      "source": [
        "## 課題8"
      ],
      "metadata": {
        "id": "31u0ExX2IjWj"
      }
    },
    {
      "cell_type": "markdown",
      "source": [
        "課題7の場合を`n=4`として、nを自分で設定して出力できるようにしてください"
      ],
      "metadata": {
        "id": "zeOvmKarInpz"
      }
    },
    {
      "cell_type": "markdown",
      "source": [
        "＜例＞ n=5の場合  \n",
        "\n",
        "![AlTnu1k.png](https://imgur.com/AlTnu1k.png)"
      ],
      "metadata": {
        "id": "2uLR5sbKIov2"
      }
    },
    {
      "cell_type": "code",
      "source": [
        "def abs(j):\n",
        "  if j < 0:\n",
        "    w = - j \n",
        "  else :\n",
        "    w = j\n",
        "  return w\n",
        "\n",
        "def output(char,n_time):\n",
        "  for T in range(n_time):\n",
        "    print(char,end = '')\n",
        "\n",
        "n = int(input())\n",
        "for i in range(1,2 * n):\n",
        "  white = abs(n - i)\n",
        "  output(' ',white)\n",
        "  output('*', (2 * n - 1)- 2 * white)\n",
        "  output(' ',white - 1)\n",
        "  output(' ',white)\n",
        "  if i == n:\n",
        "    output('*', (2 * n - 1)- 2 * white - 1)  \n",
        "  else:\n",
        "    output('*', (2 * n - 1)- 2 * white)  \n",
        "  print('\\n')\n",
        "\n",
        "for i in range(2,2 * n):\n",
        "  white = abs(n - i)\n",
        "  output(' ',white)\n",
        "  output('*', (2 * n - 1)- 2 * white)\n",
        "  output(' ',white - 1)\n",
        "  output(' ',white)\n",
        "  if i == n:\n",
        "    output('*', (2 * n - 1)- 2 * white - 1)  \n",
        "  else:\n",
        "    output('*', (2 * n - 1)- 2 * white)  \n",
        "  print('\\n')"
      ],
      "metadata": {
        "id": "TXJaIVbYI_Cd",
        "colab": {
          "base_uri": "https://localhost:8080/"
        },
        "outputId": "2f801ead-a7f8-4922-fce7-885437fcb60f"
      },
      "execution_count": null,
      "outputs": [
        {
          "output_type": "stream",
          "name": "stdout",
          "text": [
            "5\n",
            "    *       *\n",
            "\n",
            "   ***     ***\n",
            "\n",
            "  *****   *****\n",
            "\n",
            " ******* *******\n",
            "\n",
            "*****************\n",
            "\n",
            " ******* *******\n",
            "\n",
            "  *****   *****\n",
            "\n",
            "   ***     ***\n",
            "\n",
            "    *       *\n",
            "\n",
            "   ***     ***\n",
            "\n",
            "  *****   *****\n",
            "\n",
            " ******* *******\n",
            "\n",
            "*****************\n",
            "\n",
            " ******* *******\n",
            "\n",
            "  *****   *****\n",
            "\n",
            "   ***     ***\n",
            "\n",
            "    *       *\n",
            "\n"
          ]
        }
      ]
    }
  ]
}